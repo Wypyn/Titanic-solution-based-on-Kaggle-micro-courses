{
 "cells": [
  {
   "cell_type": "code",
   "execution_count": 1,
   "metadata": {
    "_cell_guid": "b1076dfc-b9ad-4769-8c92-a6c4dae69d19",
    "_kg_hide-input": true,
    "_kg_hide-output": true,
    "_uuid": "8f2839f25d086af736a60e9eeb907d3b93b6e0e5",
    "execution": {
     "iopub.execute_input": "2021-04-08T10:56:15.515309Z",
     "iopub.status.busy": "2021-04-08T10:56:15.514596Z",
     "iopub.status.idle": "2021-04-08T10:56:15.523074Z",
     "shell.execute_reply": "2021-04-08T10:56:15.523621Z"
    },
    "papermill": {
     "duration": 0.033591,
     "end_time": "2021-04-08T10:56:15.523974",
     "exception": false,
     "start_time": "2021-04-08T10:56:15.490383",
     "status": "completed"
    },
    "tags": []
   },
   "outputs": [
    {
     "name": "stdout",
     "output_type": "stream",
     "text": [
      "/kaggle/input/titanic/train.csv\n",
      "/kaggle/input/titanic/test.csv\n",
      "/kaggle/input/titanic/gender_submission.csv\n"
     ]
    }
   ],
   "source": [
    "# This Python 3 environment comes with many helpful analytics libraries installed\n",
    "# It is defined by the kaggle/python Docker image: https://github.com/kaggle/docker-python\n",
    "# For example, here's several helpful packages to load\n",
    "\n",
    "import numpy as np # linear algebra\n",
    "import pandas as pd # data processing, CSV file I/O (e.g. pd.read_csv)\n",
    "\n",
    "# Input data files are available in the read-only \"../input/\" directory\n",
    "# For example, running this (by clicking run or pressing Shift+Enter) will list all files under the input directory\n",
    "\n",
    "import os\n",
    "for dirname, _, filenames in os.walk('/kaggle/input'):\n",
    "    for filename in filenames:\n",
    "        print(os.path.join(dirname, filename))\n",
    "\n",
    "# You can write up to 20GB to the current directory (/kaggle/working/) that gets preserved as output when you create a version using \"Save & Run All\" \n",
    "# You can also write temporary files to /kaggle/temp/, but they won't be saved outside of the current session"
   ]
  },
  {
   "cell_type": "markdown",
   "metadata": {
    "papermill": {
     "duration": 0.015504,
     "end_time": "2021-04-08T10:56:15.556166",
     "exception": false,
     "start_time": "2021-04-08T10:56:15.540662",
     "status": "completed"
    },
    "tags": []
   },
   "source": [
    "## <a id = \"stepend\"> Table of contents </a>\n",
    "1. [Introduction](#1)\n",
    "2. [Kaggle micro-courses study plan](#2)\n",
    "3. [The solution of the problem](#3)\n",
    "    * [Defining Libraries and Data Path](#4)\n",
    "    * [Deal with Missing values](#5)\n",
    "    * [Deal with Categorical Variables](#6)\n",
    "    * [Defining and testing a model](#7)\n",
    "    * [Submit to competiton](#8)\n",
    "8. [Conclusion](#9)"
   ]
  },
  {
   "cell_type": "markdown",
   "metadata": {
    "papermill": {
     "duration": 0.015565,
     "end_time": "2021-04-08T10:56:15.587573",
     "exception": false,
     "start_time": "2021-04-08T10:56:15.572008",
     "status": "completed"
    },
    "tags": []
   },
   "source": [
    "# <a id = \"1\"> 1. Introduction</a>\n",
    "### What is it about?\n",
    "Good day, dear Kagglers! I wrote this notebook as a kind of logical conclusion to the study of Kaggle micro-courses. It uses a variety of techniques to solve the Titanic problem from all the different Kaggle micro-courses for beginners. You can simply familiarize yourself with this notebook and find those topics that, in your opinion, are worth repeating (i will give all the links to the micro-courses used).\n",
    "\n",
    "You can use this solution for training, the main advantage of this solution is its simplicity. It will not use a large number of complex analysis methods or the creation of synthetic variables (such notebooks can be found in sufficient quantities) - this solution is aimed at obtaining decent model accuracy using the basic principles. Thus, you will be able to see the simple logic of data processing and model building.👍\n",
    "### Who is it for?\n",
    "This notebook can be extremely useful for absolutely novice users, as well as those who are interested in mastering some theoretical aspects.\n"
   ]
  },
  {
   "cell_type": "markdown",
   "metadata": {
    "papermill": {
     "duration": 0.018652,
     "end_time": "2021-04-08T10:56:15.622446",
     "exception": false,
     "start_time": "2021-04-08T10:56:15.603794",
     "status": "completed"
    },
    "tags": []
   },
   "source": [
    "# <a id = \"2\"> 2. Kaggle micro-courses study plan</a>\n",
    "### How do I get started on the Kaggle platform?\n",
    "First, I would like to leave here my subjective view of the order of studying Kaggle micro-courses. In my opinion, these micro-courses are incredibly practical. You can stop anywhere, on any line code in a particular course and start your own exploration on the selected dataset. You can find a complete list of micro-courses available on this platform [here](https://www.kaggle.com/learn/overview).\n",
    "### <br/> Here we go:\n",
    "1. [Hello, Python!](https://www.kaggle.com/learn/python)\n",
    "<br/> One of the main programming languages used in Data Science is Python. The presented course can be started to study even with a zero level of knowledge of the programming language. Actually, it was from this level that I started learning Python.😊\n",
    "The course is really interesting, and the practical tasks are really challenging.💪\n",
    "2. [Pandas](https://www.kaggle.com/learn/pandas)\n",
    "<br/> While Python is the most popular programming language in the data science world, *Pandas* is the most popular Python library for data analysis. In this course, you can learn more about the functions and methods applicable to data frames. How to create a table, how to extract the necessary information from it, and much more.\n",
    "3. [Data-visualization](https://www.kaggle.com/learn/data-visualization)\n",
    "<br/> In this micro-course, you will learn the basics of data visualization using the *Seaborn* library. The presented course describes in great detail all the tools necessary for work, explaining literally every word in a line of code to you! It is also a very colorful course, because the resulting visuals look amazingly interesting. You can master data visualization without the first two micro-courses, but nevertheless, I recommend that you first study the base of the programming language. Data visualization is very interesting and, if used wisely, can reveal interesting dependencies, tell a previously unknown story about the presented data.\n",
    "4. [Intro-to-machine-learning](https://www.kaggle.com/learn/intro-to-machine-learning)\n",
    "<br/> This course introduces us to the basic machine learning models that we need to predict key values. The course provides an introduction to classification and regression models such as: *Decision Tree Model* and *Random Forest*. Here we will also get acquainted with the problem of *underfitting* and *overfitting* models, methods of assessing its accuracy. Of course, this micro-course will not give you the mathematical foundations of the presented methods, but as I said earlier, this is pure practice.✨ You can immediately apply these models to real data!\n",
    "5. [Intermediate-machine-learning](https://www.kaggle.com/learn/intermediate-machine-learning)\n",
    "<br/> This course is also a must, as it raises critical issues that are encountered in real-world data. In the Titanic problem, we will encounter data gaps, as well as categorical variables that our model does not want to perceive in their pure form.🙄 In this course, you will also learn about *pipelines*, advanced model checking techniques (*cross-validation*), the problem of *data leakage*, and explore a new model that is widely used in one form or another in Kaggle's competitions - *XGBoost* 🔥.\n",
    "6. [Feature-engineering](https://www.kaggle.com/learn/feature-engineering)\n",
    "<br/> I strongly recommend starting this course only after all the previous ones)😂 Surely you have seen an important part of any analysis of the problem with the title *Feature Engineering*, but what is it? In fact, this is the creation of new, synthetic variables based on the presented ones, which will improve the predictive performance of the model, as well as increase the interpretability of the results.\n",
    "\n",
    "[\"Return to Monke\"](#stepend)🙉"
   ]
  },
  {
   "cell_type": "markdown",
   "metadata": {
    "papermill": {
     "duration": 0.015388,
     "end_time": "2021-04-08T10:56:15.653988",
     "exception": false,
     "start_time": "2021-04-08T10:56:15.638600",
     "status": "completed"
    },
    "tags": []
   },
   "source": [
    "# <a id = \"3\"> 3. The solution of the problem</a>\n",
    "\n",
    "## <a id = \"4\"> Defining Libraries and Data Path</a>\n",
    "In this cell, we will define all the libraries we need for working with data, methods for filling in the gaps, using various models, and so on. In fact, this block is often filled in during your analysis, when you understand that we need one or another method.\n",
    "\n",
    "Here we read all our data and write them under the names *train_data* and *test_data*, respectively.\n",
    "\n",
    "Then we determine the predictive feature *y*. And also we will determine the specific columns with which we will work, I did not use *Ticket* and *Cabin* features here. Although they hide interesting patterns in themselves, they require more complex processing, while giving a slight improvement to the model (you can add or remove some features at your discretion😉)."
   ]
  },
  {
   "cell_type": "code",
   "execution_count": 2,
   "metadata": {
    "execution": {
     "iopub.execute_input": "2021-04-08T10:56:15.692836Z",
     "iopub.status.busy": "2021-04-08T10:56:15.692081Z",
     "iopub.status.idle": "2021-04-08T10:56:17.593112Z",
     "shell.execute_reply": "2021-04-08T10:56:17.592141Z"
    },
    "papermill": {
     "duration": 1.923556,
     "end_time": "2021-04-08T10:56:17.593260",
     "exception": false,
     "start_time": "2021-04-08T10:56:15.669704",
     "status": "completed"
    },
    "tags": []
   },
   "outputs": [
    {
     "data": {
      "text/html": [
       "<div>\n",
       "<style scoped>\n",
       "    .dataframe tbody tr th:only-of-type {\n",
       "        vertical-align: middle;\n",
       "    }\n",
       "\n",
       "    .dataframe tbody tr th {\n",
       "        vertical-align: top;\n",
       "    }\n",
       "\n",
       "    .dataframe thead th {\n",
       "        text-align: right;\n",
       "    }\n",
       "</style>\n",
       "<table border=\"1\" class=\"dataframe\">\n",
       "  <thead>\n",
       "    <tr style=\"text-align: right;\">\n",
       "      <th></th>\n",
       "      <th>Sex</th>\n",
       "      <th>Pclass</th>\n",
       "      <th>SibSp</th>\n",
       "      <th>Parch</th>\n",
       "      <th>Age</th>\n",
       "      <th>Fare</th>\n",
       "      <th>Embarked</th>\n",
       "    </tr>\n",
       "  </thead>\n",
       "  <tbody>\n",
       "    <tr>\n",
       "      <th>0</th>\n",
       "      <td>male</td>\n",
       "      <td>3</td>\n",
       "      <td>1</td>\n",
       "      <td>0</td>\n",
       "      <td>22.0</td>\n",
       "      <td>7.2500</td>\n",
       "      <td>S</td>\n",
       "    </tr>\n",
       "    <tr>\n",
       "      <th>1</th>\n",
       "      <td>female</td>\n",
       "      <td>1</td>\n",
       "      <td>1</td>\n",
       "      <td>0</td>\n",
       "      <td>38.0</td>\n",
       "      <td>71.2833</td>\n",
       "      <td>C</td>\n",
       "    </tr>\n",
       "    <tr>\n",
       "      <th>2</th>\n",
       "      <td>female</td>\n",
       "      <td>3</td>\n",
       "      <td>0</td>\n",
       "      <td>0</td>\n",
       "      <td>26.0</td>\n",
       "      <td>7.9250</td>\n",
       "      <td>S</td>\n",
       "    </tr>\n",
       "    <tr>\n",
       "      <th>3</th>\n",
       "      <td>female</td>\n",
       "      <td>1</td>\n",
       "      <td>1</td>\n",
       "      <td>0</td>\n",
       "      <td>35.0</td>\n",
       "      <td>53.1000</td>\n",
       "      <td>S</td>\n",
       "    </tr>\n",
       "    <tr>\n",
       "      <th>4</th>\n",
       "      <td>male</td>\n",
       "      <td>3</td>\n",
       "      <td>0</td>\n",
       "      <td>0</td>\n",
       "      <td>35.0</td>\n",
       "      <td>8.0500</td>\n",
       "      <td>S</td>\n",
       "    </tr>\n",
       "  </tbody>\n",
       "</table>\n",
       "</div>"
      ],
      "text/plain": [
       "      Sex  Pclass  SibSp  Parch   Age     Fare Embarked\n",
       "0    male       3      1      0  22.0   7.2500        S\n",
       "1  female       1      1      0  38.0  71.2833        C\n",
       "2  female       3      0      0  26.0   7.9250        S\n",
       "3  female       1      1      0  35.0  53.1000        S\n",
       "4    male       3      0      0  35.0   8.0500        S"
      ]
     },
     "execution_count": 2,
     "metadata": {},
     "output_type": "execute_result"
    }
   ],
   "source": [
    "from sklearn.model_selection import train_test_split\n",
    "from sklearn.metrics import accuracy_score\n",
    "from sklearn.preprocessing import LabelEncoder\n",
    "from xgboost import XGBClassifier\n",
    "from sklearn.ensemble import RandomForestClassifier\n",
    "from sklearn.tree import DecisionTreeClassifier\n",
    "\n",
    "train_data = pd.read_csv(\"../input/titanic/train.csv\") \n",
    "test_data = pd.read_csv(\"../input/titanic/test.csv\") \n",
    "\n",
    "y = train_data[\"Survived\"]\n",
    "features = [\"Sex\",\"Pclass\", \"SibSp\", \"Parch\", \"Age\", \"Fare\", \"Embarked\"] #Instead of .dropna i'll use exact features due to the small amount of columns\n",
    "\n",
    "X_train = train_data[features]\n",
    "X_test = test_data[features]\n",
    "X_train.head() # Shows the first five lines of our selected data"
   ]
  },
  {
   "cell_type": "markdown",
   "metadata": {
    "papermill": {
     "duration": 0.017215,
     "end_time": "2021-04-08T10:56:17.627142",
     "exception": false,
     "start_time": "2021-04-08T10:56:17.609927",
     "status": "completed"
    },
    "tags": []
   },
   "source": [
    "## <a id = \"5\"> Deal with Missing values</a>\n",
    "So, we have defined specific features. Among them there may be *missing values*, which, of course, we will not see in the first lines).The first step in processing the data is to fill in the gaps! (of course, after choosing the main features that you select based on the analysis of all data, for example, with visualization tools, we must first assess the scale of our future actions). Moreover, it is necessary to note an interesting fact:\n",
    ">Missing values may not necessarily be lost data, sometimes it may indicate that this feature simply does not exist or it cannot be obtained, which is already some interesting pattern. For example, the column may be called *Pets of passengers* and among *Cats*, *Dogs* and *Parrots*, there may be missing values that are not reasonable to fill in with *Cats* (for example), they will mean that the passenger has no pets 🤷‍♀️)\n",
    "\n",
    "Therefore, in this block we will **search for missing values** (more about how these lines of code work can be found in the micro-course [Intermediate-machine-learning. Missing-values](https://www.kaggle.com/alexisbcook/missing-values)):\n"
   ]
  },
  {
   "cell_type": "code",
   "execution_count": 3,
   "metadata": {
    "execution": {
     "iopub.execute_input": "2021-04-08T10:56:17.675504Z",
     "iopub.status.busy": "2021-04-08T10:56:17.674406Z",
     "iopub.status.idle": "2021-04-08T10:56:17.710645Z",
     "shell.execute_reply": "2021-04-08T10:56:17.710022Z"
    },
    "papermill": {
     "duration": 0.062263,
     "end_time": "2021-04-08T10:56:17.710810",
     "exception": false,
     "start_time": "2021-04-08T10:56:17.648547",
     "status": "completed"
    },
    "tags": []
   },
   "outputs": [
    {
     "name": "stdout",
     "output_type": "stream",
     "text": [
      "Missing in train_data: \n",
      " Age         177\n",
      "Embarked      2\n",
      "dtype: int64 \n",
      "Missing in train_data: \n",
      " Age     86\n",
      "Fare     1\n",
      "dtype: int64\n"
     ]
    }
   ],
   "source": [
    "# Study missing values:\n",
    "\n",
    "missin_v_count_by_columns_train = (X_train.isnull().sum())\n",
    "missin_v_count_by_columns_test = (X_test.isnull().sum())\n",
    "print(\"Missing in train_data:\",'\\n',missin_v_count_by_columns_train[missin_v_count_by_columns_train > 0], '\\nMissing in train_data:','\\n',missin_v_count_by_columns_test[missin_v_count_by_columns_test > 0])"
   ]
  },
  {
   "cell_type": "markdown",
   "metadata": {
    "papermill": {
     "duration": 0.024822,
     "end_time": "2021-04-08T10:56:17.756256",
     "exception": false,
     "start_time": "2021-04-08T10:56:17.731434",
     "status": "completed"
    },
    "tags": []
   },
   "source": [
    "Now we see that there are missing values in both *training* and *test data*, both in columns with *categorical variables* ('Embarked') and with *numerical* ones. That is why, when imputuing values, we must process both *training* and *test data*, otherwise you will train the model without errors, and at the stage of applying the model on all data, you will get an error.🤔 More about how to impute values can be found in the micro-course [Intermediate-machine-learning. Missing-values](https://www.kaggle.com/alexisbcook/missing-values). However, I will immediately note that in this course we are introduced to the *SimpleImputer method*, which is imputed to the entire DataFrame with a single rule for filling in the missing data. However, I want to use different approaches for imputing data to different columns, so I use *.fillna*. You can easily understand how it works from the structure of the code. Now let's **impute the missing values** :"
   ]
  },
  {
   "cell_type": "code",
   "execution_count": 4,
   "metadata": {
    "execution": {
     "iopub.execute_input": "2021-04-08T10:56:17.801471Z",
     "iopub.status.busy": "2021-04-08T10:56:17.800442Z",
     "iopub.status.idle": "2021-04-08T10:56:17.803957Z",
     "shell.execute_reply": "2021-04-08T10:56:17.803302Z"
    },
    "papermill": {
     "duration": 0.030715,
     "end_time": "2021-04-08T10:56:17.804116",
     "exception": false,
     "start_time": "2021-04-08T10:56:17.773401",
     "status": "completed"
    },
    "tags": []
   },
   "outputs": [],
   "source": [
    "# Impute them right there:\n",
    "X_train = X_train.fillna(value = {'Age': X_train['Age'].mean(), 'Fare': X_train['Fare'].median(), 'Embarked': 'N'})\n",
    "X_test = X_test.fillna(value = {'Age': X_test['Age'].mean(), 'Fare': X_test['Fare'].median(), 'Embarked': 'N'})"
   ]
  },
  {
   "cell_type": "code",
   "execution_count": 5,
   "metadata": {
    "execution": {
     "iopub.execute_input": "2021-04-08T10:56:17.849467Z",
     "iopub.status.busy": "2021-04-08T10:56:17.848515Z",
     "iopub.status.idle": "2021-04-08T10:56:17.853665Z",
     "shell.execute_reply": "2021-04-08T10:56:17.852768Z"
    },
    "papermill": {
     "duration": 0.032615,
     "end_time": "2021-04-08T10:56:17.853858",
     "exception": false,
     "start_time": "2021-04-08T10:56:17.821243",
     "status": "completed"
    },
    "tags": []
   },
   "outputs": [
    {
     "name": "stdout",
     "output_type": "stream",
     "text": [
      "Missing in train_data: \n",
      " Series([], dtype: int64) \n",
      "Missing in train_data: \n",
      " Series([], dtype: int64)\n"
     ]
    }
   ],
   "source": [
    "# Let's check it out again:\n",
    "\n",
    "missin_v_count_by_columns_train = (X_train.isnull().sum())\n",
    "missin_v_count_by_columns_test = (X_test.isnull().sum())\n",
    "print(\"Missing in train_data:\",'\\n',missin_v_count_by_columns_train[missin_v_count_by_columns_train > 0], '\\nMissing in train_data:','\\n',missin_v_count_by_columns_test[missin_v_count_by_columns_test > 0])"
   ]
  },
  {
   "cell_type": "markdown",
   "metadata": {
    "papermill": {
     "duration": 0.017738,
     "end_time": "2021-04-08T10:56:17.890782",
     "exception": false,
     "start_time": "2021-04-08T10:56:17.873044",
     "status": "completed"
    },
    "tags": []
   },
   "source": [
    "Now there are no missing values😎"
   ]
  },
  {
   "cell_type": "markdown",
   "metadata": {
    "papermill": {
     "duration": 0.017758,
     "end_time": "2021-04-08T10:56:17.926927",
     "exception": false,
     "start_time": "2021-04-08T10:56:17.909169",
     "status": "completed"
    },
    "tags": []
   },
   "source": [
    "## <a id = \"6\"> Deal with Categorical Variables</a>\n",
    "\n",
    "As we noted earlier, categorical data is contained in the 'Embarked' column. However, the 'Sex' column also contains categorical values. More about how to deal with Categorical Variables can be found in the micro-course [Intermediate-machine-learning. Categorical Variables](https://www.kaggle.com/alexisbcook/categorical-variables). In this micro-course, various ways of processing category values are given: simple *Drop* (drop such columns and ignore them), *LabelEncoding* and *OneHotEncoding*. In order to understand the difference between them, be sure to read the presented course. Empirically, I have determined that the best result, in this case, will be when using the *OneHotEncoding* approach to 'Embarked' column and *LabelEncoding* to 'Sex'. However, in order not to use this bulky preprocessing method, I use the alternative *.get_dummies* method (*.factorize()* can be an alternative to *LabelEncoding*). Now let's **preprocess Categorical Variables 'Sex'**:"
   ]
  },
  {
   "cell_type": "code",
   "execution_count": 6,
   "metadata": {
    "execution": {
     "iopub.execute_input": "2021-04-08T10:56:17.978433Z",
     "iopub.status.busy": "2021-04-08T10:56:17.977777Z",
     "iopub.status.idle": "2021-04-08T10:56:17.982289Z",
     "shell.execute_reply": "2021-04-08T10:56:17.981601Z"
    },
    "papermill": {
     "duration": 0.037312,
     "end_time": "2021-04-08T10:56:17.982436",
     "exception": false,
     "start_time": "2021-04-08T10:56:17.945124",
     "status": "completed"
    },
    "tags": []
   },
   "outputs": [
    {
     "data": {
      "text/html": [
       "<div>\n",
       "<style scoped>\n",
       "    .dataframe tbody tr th:only-of-type {\n",
       "        vertical-align: middle;\n",
       "    }\n",
       "\n",
       "    .dataframe tbody tr th {\n",
       "        vertical-align: top;\n",
       "    }\n",
       "\n",
       "    .dataframe thead th {\n",
       "        text-align: right;\n",
       "    }\n",
       "</style>\n",
       "<table border=\"1\" class=\"dataframe\">\n",
       "  <thead>\n",
       "    <tr style=\"text-align: right;\">\n",
       "      <th></th>\n",
       "      <th>Sex</th>\n",
       "      <th>Pclass</th>\n",
       "      <th>SibSp</th>\n",
       "      <th>Parch</th>\n",
       "      <th>Age</th>\n",
       "      <th>Fare</th>\n",
       "      <th>Embarked</th>\n",
       "    </tr>\n",
       "  </thead>\n",
       "  <tbody>\n",
       "    <tr>\n",
       "      <th>0</th>\n",
       "      <td>1</td>\n",
       "      <td>3</td>\n",
       "      <td>1</td>\n",
       "      <td>0</td>\n",
       "      <td>22.0</td>\n",
       "      <td>7.2500</td>\n",
       "      <td>S</td>\n",
       "    </tr>\n",
       "    <tr>\n",
       "      <th>1</th>\n",
       "      <td>0</td>\n",
       "      <td>1</td>\n",
       "      <td>1</td>\n",
       "      <td>0</td>\n",
       "      <td>38.0</td>\n",
       "      <td>71.2833</td>\n",
       "      <td>C</td>\n",
       "    </tr>\n",
       "    <tr>\n",
       "      <th>2</th>\n",
       "      <td>0</td>\n",
       "      <td>3</td>\n",
       "      <td>0</td>\n",
       "      <td>0</td>\n",
       "      <td>26.0</td>\n",
       "      <td>7.9250</td>\n",
       "      <td>S</td>\n",
       "    </tr>\n",
       "    <tr>\n",
       "      <th>3</th>\n",
       "      <td>0</td>\n",
       "      <td>1</td>\n",
       "      <td>1</td>\n",
       "      <td>0</td>\n",
       "      <td>35.0</td>\n",
       "      <td>53.1000</td>\n",
       "      <td>S</td>\n",
       "    </tr>\n",
       "    <tr>\n",
       "      <th>4</th>\n",
       "      <td>1</td>\n",
       "      <td>3</td>\n",
       "      <td>0</td>\n",
       "      <td>0</td>\n",
       "      <td>35.0</td>\n",
       "      <td>8.0500</td>\n",
       "      <td>S</td>\n",
       "    </tr>\n",
       "  </tbody>\n",
       "</table>\n",
       "</div>"
      ],
      "text/plain": [
       "   Sex  Pclass  SibSp  Parch   Age     Fare Embarked\n",
       "0    1       3      1      0  22.0   7.2500        S\n",
       "1    0       1      1      0  38.0  71.2833        C\n",
       "2    0       3      0      0  26.0   7.9250        S\n",
       "3    0       1      1      0  35.0  53.1000        S\n",
       "4    1       3      0      0  35.0   8.0500        S"
      ]
     },
     "execution_count": 6,
     "metadata": {},
     "output_type": "execute_result"
    }
   ],
   "source": [
    "label_encoder = LabelEncoder()\n",
    "for col in ['Sex']:\n",
    "    X_train[col] = label_encoder.fit_transform(X_train[col])\n",
    "    X_test[col] = label_encoder.transform(X_test[col])\n",
    "X_train.head()"
   ]
  },
  {
   "cell_type": "markdown",
   "metadata": {
    "papermill": {
     "duration": 0.017903,
     "end_time": "2021-04-08T10:56:18.018596",
     "exception": false,
     "start_time": "2021-04-08T10:56:18.000693",
     "status": "completed"
    },
    "tags": []
   },
   "source": [
    "Compare to the very first output, we replaced the 'male' and 'female' values with '1' and '0' respectively using LabelEncoder(). Now let's apply *.get_dummies*. Please note that I use this method at the very end, when all other data is already numerical! Since the *.get_dummies* method will turn all categorical columns of the DataFrame into sets of columns with corresponding values. **Preprocess Categorical Variables 'Embarked'**:"
   ]
  },
  {
   "cell_type": "code",
   "execution_count": 7,
   "metadata": {
    "execution": {
     "iopub.execute_input": "2021-04-08T10:56:18.065258Z",
     "iopub.status.busy": "2021-04-08T10:56:18.064621Z",
     "iopub.status.idle": "2021-04-08T10:56:18.084670Z",
     "shell.execute_reply": "2021-04-08T10:56:18.083929Z"
    },
    "papermill": {
     "duration": 0.048002,
     "end_time": "2021-04-08T10:56:18.084819",
     "exception": false,
     "start_time": "2021-04-08T10:56:18.036817",
     "status": "completed"
    },
    "tags": []
   },
   "outputs": [
    {
     "data": {
      "text/html": [
       "<div>\n",
       "<style scoped>\n",
       "    .dataframe tbody tr th:only-of-type {\n",
       "        vertical-align: middle;\n",
       "    }\n",
       "\n",
       "    .dataframe tbody tr th {\n",
       "        vertical-align: top;\n",
       "    }\n",
       "\n",
       "    .dataframe thead th {\n",
       "        text-align: right;\n",
       "    }\n",
       "</style>\n",
       "<table border=\"1\" class=\"dataframe\">\n",
       "  <thead>\n",
       "    <tr style=\"text-align: right;\">\n",
       "      <th></th>\n",
       "      <th>Sex</th>\n",
       "      <th>Pclass</th>\n",
       "      <th>SibSp</th>\n",
       "      <th>Parch</th>\n",
       "      <th>Age</th>\n",
       "      <th>Fare</th>\n",
       "      <th>Embarked_C</th>\n",
       "      <th>Embarked_N</th>\n",
       "      <th>Embarked_Q</th>\n",
       "      <th>Embarked_S</th>\n",
       "    </tr>\n",
       "  </thead>\n",
       "  <tbody>\n",
       "    <tr>\n",
       "      <th>0</th>\n",
       "      <td>1</td>\n",
       "      <td>3</td>\n",
       "      <td>1</td>\n",
       "      <td>0</td>\n",
       "      <td>22.0</td>\n",
       "      <td>7.2500</td>\n",
       "      <td>0</td>\n",
       "      <td>0</td>\n",
       "      <td>0</td>\n",
       "      <td>1</td>\n",
       "    </tr>\n",
       "    <tr>\n",
       "      <th>1</th>\n",
       "      <td>0</td>\n",
       "      <td>1</td>\n",
       "      <td>1</td>\n",
       "      <td>0</td>\n",
       "      <td>38.0</td>\n",
       "      <td>71.2833</td>\n",
       "      <td>1</td>\n",
       "      <td>0</td>\n",
       "      <td>0</td>\n",
       "      <td>0</td>\n",
       "    </tr>\n",
       "    <tr>\n",
       "      <th>2</th>\n",
       "      <td>0</td>\n",
       "      <td>3</td>\n",
       "      <td>0</td>\n",
       "      <td>0</td>\n",
       "      <td>26.0</td>\n",
       "      <td>7.9250</td>\n",
       "      <td>0</td>\n",
       "      <td>0</td>\n",
       "      <td>0</td>\n",
       "      <td>1</td>\n",
       "    </tr>\n",
       "    <tr>\n",
       "      <th>3</th>\n",
       "      <td>0</td>\n",
       "      <td>1</td>\n",
       "      <td>1</td>\n",
       "      <td>0</td>\n",
       "      <td>35.0</td>\n",
       "      <td>53.1000</td>\n",
       "      <td>0</td>\n",
       "      <td>0</td>\n",
       "      <td>0</td>\n",
       "      <td>1</td>\n",
       "    </tr>\n",
       "    <tr>\n",
       "      <th>4</th>\n",
       "      <td>1</td>\n",
       "      <td>3</td>\n",
       "      <td>0</td>\n",
       "      <td>0</td>\n",
       "      <td>35.0</td>\n",
       "      <td>8.0500</td>\n",
       "      <td>0</td>\n",
       "      <td>0</td>\n",
       "      <td>0</td>\n",
       "      <td>1</td>\n",
       "    </tr>\n",
       "  </tbody>\n",
       "</table>\n",
       "</div>"
      ],
      "text/plain": [
       "   Sex  Pclass  SibSp  Parch   Age     Fare  Embarked_C  Embarked_N  \\\n",
       "0    1       3      1      0  22.0   7.2500           0           0   \n",
       "1    0       1      1      0  38.0  71.2833           1           0   \n",
       "2    0       3      0      0  26.0   7.9250           0           0   \n",
       "3    0       1      1      0  35.0  53.1000           0           0   \n",
       "4    1       3      0      0  35.0   8.0500           0           0   \n",
       "\n",
       "   Embarked_Q  Embarked_S  \n",
       "0           0           1  \n",
       "1           0           0  \n",
       "2           0           1  \n",
       "3           0           1  \n",
       "4           0           1  "
      ]
     },
     "execution_count": 7,
     "metadata": {},
     "output_type": "execute_result"
    }
   ],
   "source": [
    "X_train = pd.get_dummies(X_train)\n",
    "X_test = pd.get_dummies(X_test)\n",
    "X_train.head()"
   ]
  },
  {
   "cell_type": "markdown",
   "metadata": {
    "papermill": {
     "duration": 0.018288,
     "end_time": "2021-04-08T10:56:18.122188",
     "exception": false,
     "start_time": "2021-04-08T10:56:18.103900",
     "status": "completed"
    },
    "tags": []
   },
   "source": [
    "It was easy, wasn't it?😎 BUT wait ... let's check the test data:"
   ]
  },
  {
   "cell_type": "code",
   "execution_count": 8,
   "metadata": {
    "execution": {
     "iopub.execute_input": "2021-04-08T10:56:18.163070Z",
     "iopub.status.busy": "2021-04-08T10:56:18.162451Z",
     "iopub.status.idle": "2021-04-08T10:56:18.176330Z",
     "shell.execute_reply": "2021-04-08T10:56:18.176842Z"
    },
    "papermill": {
     "duration": 0.036221,
     "end_time": "2021-04-08T10:56:18.177015",
     "exception": false,
     "start_time": "2021-04-08T10:56:18.140794",
     "status": "completed"
    },
    "tags": []
   },
   "outputs": [
    {
     "data": {
      "text/html": [
       "<div>\n",
       "<style scoped>\n",
       "    .dataframe tbody tr th:only-of-type {\n",
       "        vertical-align: middle;\n",
       "    }\n",
       "\n",
       "    .dataframe tbody tr th {\n",
       "        vertical-align: top;\n",
       "    }\n",
       "\n",
       "    .dataframe thead th {\n",
       "        text-align: right;\n",
       "    }\n",
       "</style>\n",
       "<table border=\"1\" class=\"dataframe\">\n",
       "  <thead>\n",
       "    <tr style=\"text-align: right;\">\n",
       "      <th></th>\n",
       "      <th>Sex</th>\n",
       "      <th>Pclass</th>\n",
       "      <th>SibSp</th>\n",
       "      <th>Parch</th>\n",
       "      <th>Age</th>\n",
       "      <th>Fare</th>\n",
       "      <th>Embarked_C</th>\n",
       "      <th>Embarked_Q</th>\n",
       "      <th>Embarked_S</th>\n",
       "    </tr>\n",
       "  </thead>\n",
       "  <tbody>\n",
       "    <tr>\n",
       "      <th>0</th>\n",
       "      <td>1</td>\n",
       "      <td>3</td>\n",
       "      <td>0</td>\n",
       "      <td>0</td>\n",
       "      <td>34.5</td>\n",
       "      <td>7.8292</td>\n",
       "      <td>0</td>\n",
       "      <td>1</td>\n",
       "      <td>0</td>\n",
       "    </tr>\n",
       "    <tr>\n",
       "      <th>1</th>\n",
       "      <td>0</td>\n",
       "      <td>3</td>\n",
       "      <td>1</td>\n",
       "      <td>0</td>\n",
       "      <td>47.0</td>\n",
       "      <td>7.0000</td>\n",
       "      <td>0</td>\n",
       "      <td>0</td>\n",
       "      <td>1</td>\n",
       "    </tr>\n",
       "    <tr>\n",
       "      <th>2</th>\n",
       "      <td>1</td>\n",
       "      <td>2</td>\n",
       "      <td>0</td>\n",
       "      <td>0</td>\n",
       "      <td>62.0</td>\n",
       "      <td>9.6875</td>\n",
       "      <td>0</td>\n",
       "      <td>1</td>\n",
       "      <td>0</td>\n",
       "    </tr>\n",
       "    <tr>\n",
       "      <th>3</th>\n",
       "      <td>1</td>\n",
       "      <td>3</td>\n",
       "      <td>0</td>\n",
       "      <td>0</td>\n",
       "      <td>27.0</td>\n",
       "      <td>8.6625</td>\n",
       "      <td>0</td>\n",
       "      <td>0</td>\n",
       "      <td>1</td>\n",
       "    </tr>\n",
       "    <tr>\n",
       "      <th>4</th>\n",
       "      <td>0</td>\n",
       "      <td>3</td>\n",
       "      <td>1</td>\n",
       "      <td>1</td>\n",
       "      <td>22.0</td>\n",
       "      <td>12.2875</td>\n",
       "      <td>0</td>\n",
       "      <td>0</td>\n",
       "      <td>1</td>\n",
       "    </tr>\n",
       "  </tbody>\n",
       "</table>\n",
       "</div>"
      ],
      "text/plain": [
       "   Sex  Pclass  SibSp  Parch   Age     Fare  Embarked_C  Embarked_Q  \\\n",
       "0    1       3      0      0  34.5   7.8292           0           1   \n",
       "1    0       3      1      0  47.0   7.0000           0           0   \n",
       "2    1       2      0      0  62.0   9.6875           0           1   \n",
       "3    1       3      0      0  27.0   8.6625           0           0   \n",
       "4    0       3      1      1  22.0  12.2875           0           0   \n",
       "\n",
       "   Embarked_S  \n",
       "0           0  \n",
       "1           1  \n",
       "2           0  \n",
       "3           1  \n",
       "4           1  "
      ]
     },
     "execution_count": 8,
     "metadata": {},
     "output_type": "execute_result"
    }
   ],
   "source": [
    "X_test.head()"
   ]
  },
  {
   "cell_type": "markdown",
   "metadata": {
    "papermill": {
     "duration": 0.018941,
     "end_time": "2021-04-08T10:56:18.215604",
     "exception": false,
     "start_time": "2021-04-08T10:56:18.196663",
     "status": "completed"
    },
    "tags": []
   },
   "source": [
    "😨 Have you noticed? We got a different number of columns in test and train data... our statistical model will not like it very much( \n",
    "<br/>Guess why it happened? (You can expand the answer below)."
   ]
  },
  {
   "cell_type": "markdown",
   "metadata": {
    "_kg_hide-input": true,
    "papermill": {
     "duration": 0.019812,
     "end_time": "2021-04-08T10:56:18.254842",
     "exception": false,
     "start_time": "2021-04-08T10:56:18.235030",
     "status": "completed"
    },
    "tags": []
   },
   "source": [
    "The fact is that, when we checked for missing values, it turned out that there are missing values in the 'Embarked' column in the *training data* (that is, a set of unique values: *'Nan'*, *'C'*, *'Q'* and *'S'*. But in the test there were no such missing values (only *'C'*, *'Q'* and *'S'*) That is why after applying the *OneHotEncoding* method, we received a different number of columns."
   ]
  },
  {
   "cell_type": "markdown",
   "metadata": {
    "papermill": {
     "duration": 0.020178,
     "end_time": "2021-04-08T10:56:18.295057",
     "exception": false,
     "start_time": "2021-04-08T10:56:18.274879",
     "status": "completed"
    },
    "tags": []
   },
   "source": [
    "It's time to use the knowledge of Pandas!😂 Shortly, we need to create such a column entirely of zeros, but in addition to that, put it in the right place! (in order):"
   ]
  },
  {
   "cell_type": "code",
   "execution_count": 9,
   "metadata": {
    "execution": {
     "iopub.execute_input": "2021-04-08T10:56:18.340323Z",
     "iopub.status.busy": "2021-04-08T10:56:18.339626Z",
     "iopub.status.idle": "2021-04-08T10:56:18.344915Z",
     "shell.execute_reply": "2021-04-08T10:56:18.345664Z"
    },
    "papermill": {
     "duration": 0.029832,
     "end_time": "2021-04-08T10:56:18.345865",
     "exception": false,
     "start_time": "2021-04-08T10:56:18.316033",
     "status": "completed"
    },
    "tags": []
   },
   "outputs": [],
   "source": [
    "X_test['Embarked_N'] = 0 # Creating a zeros column"
   ]
  },
  {
   "cell_type": "code",
   "execution_count": 10,
   "metadata": {
    "execution": {
     "iopub.execute_input": "2021-04-08T10:56:18.391598Z",
     "iopub.status.busy": "2021-04-08T10:56:18.390765Z",
     "iopub.status.idle": "2021-04-08T10:56:18.407454Z",
     "shell.execute_reply": "2021-04-08T10:56:18.408163Z"
    },
    "papermill": {
     "duration": 0.041704,
     "end_time": "2021-04-08T10:56:18.408354",
     "exception": false,
     "start_time": "2021-04-08T10:56:18.366650",
     "status": "completed"
    },
    "tags": []
   },
   "outputs": [
    {
     "data": {
      "text/html": [
       "<div>\n",
       "<style scoped>\n",
       "    .dataframe tbody tr th:only-of-type {\n",
       "        vertical-align: middle;\n",
       "    }\n",
       "\n",
       "    .dataframe tbody tr th {\n",
       "        vertical-align: top;\n",
       "    }\n",
       "\n",
       "    .dataframe thead th {\n",
       "        text-align: right;\n",
       "    }\n",
       "</style>\n",
       "<table border=\"1\" class=\"dataframe\">\n",
       "  <thead>\n",
       "    <tr style=\"text-align: right;\">\n",
       "      <th></th>\n",
       "      <th>Sex</th>\n",
       "      <th>Pclass</th>\n",
       "      <th>SibSp</th>\n",
       "      <th>Parch</th>\n",
       "      <th>Age</th>\n",
       "      <th>Fare</th>\n",
       "      <th>Embarked_C</th>\n",
       "      <th>Embarked_N</th>\n",
       "      <th>Embarked_Q</th>\n",
       "      <th>Embarked_S</th>\n",
       "    </tr>\n",
       "  </thead>\n",
       "  <tbody>\n",
       "    <tr>\n",
       "      <th>0</th>\n",
       "      <td>1</td>\n",
       "      <td>3</td>\n",
       "      <td>0</td>\n",
       "      <td>0</td>\n",
       "      <td>34.5</td>\n",
       "      <td>7.8292</td>\n",
       "      <td>0</td>\n",
       "      <td>0</td>\n",
       "      <td>1</td>\n",
       "      <td>0</td>\n",
       "    </tr>\n",
       "    <tr>\n",
       "      <th>1</th>\n",
       "      <td>0</td>\n",
       "      <td>3</td>\n",
       "      <td>1</td>\n",
       "      <td>0</td>\n",
       "      <td>47.0</td>\n",
       "      <td>7.0000</td>\n",
       "      <td>0</td>\n",
       "      <td>0</td>\n",
       "      <td>0</td>\n",
       "      <td>1</td>\n",
       "    </tr>\n",
       "    <tr>\n",
       "      <th>2</th>\n",
       "      <td>1</td>\n",
       "      <td>2</td>\n",
       "      <td>0</td>\n",
       "      <td>0</td>\n",
       "      <td>62.0</td>\n",
       "      <td>9.6875</td>\n",
       "      <td>0</td>\n",
       "      <td>0</td>\n",
       "      <td>1</td>\n",
       "      <td>0</td>\n",
       "    </tr>\n",
       "    <tr>\n",
       "      <th>3</th>\n",
       "      <td>1</td>\n",
       "      <td>3</td>\n",
       "      <td>0</td>\n",
       "      <td>0</td>\n",
       "      <td>27.0</td>\n",
       "      <td>8.6625</td>\n",
       "      <td>0</td>\n",
       "      <td>0</td>\n",
       "      <td>0</td>\n",
       "      <td>1</td>\n",
       "    </tr>\n",
       "    <tr>\n",
       "      <th>4</th>\n",
       "      <td>0</td>\n",
       "      <td>3</td>\n",
       "      <td>1</td>\n",
       "      <td>1</td>\n",
       "      <td>22.0</td>\n",
       "      <td>12.2875</td>\n",
       "      <td>0</td>\n",
       "      <td>0</td>\n",
       "      <td>0</td>\n",
       "      <td>1</td>\n",
       "    </tr>\n",
       "  </tbody>\n",
       "</table>\n",
       "</div>"
      ],
      "text/plain": [
       "   Sex  Pclass  SibSp  Parch   Age     Fare  Embarked_C  Embarked_N  \\\n",
       "0    1       3      0      0  34.5   7.8292           0           0   \n",
       "1    0       3      1      0  47.0   7.0000           0           0   \n",
       "2    1       2      0      0  62.0   9.6875           0           0   \n",
       "3    1       3      0      0  27.0   8.6625           0           0   \n",
       "4    0       3      1      1  22.0  12.2875           0           0   \n",
       "\n",
       "   Embarked_Q  Embarked_S  \n",
       "0           1           0  \n",
       "1           0           1  \n",
       "2           1           0  \n",
       "3           0           1  \n",
       "4           0           1  "
      ]
     },
     "execution_count": 10,
     "metadata": {},
     "output_type": "execute_result"
    }
   ],
   "source": [
    "cols2 = X_test.columns.tolist() # List of column names\n",
    "lista = [cols2[9]] # Link to missing column \n",
    "cols2 = cols2[:7] + lista + cols2[7:9] # Redefine the column numbering order\n",
    "X_test = X_test[cols2] # Applying the new order\n",
    "X_test.head()"
   ]
  },
  {
   "cell_type": "markdown",
   "metadata": {
    "papermill": {
     "duration": 0.020788,
     "end_time": "2021-04-08T10:56:18.450454",
     "exception": false,
     "start_time": "2021-04-08T10:56:18.429666",
     "status": "completed"
    },
    "tags": []
   },
   "source": [
    "Great, now everything is identical!🎉"
   ]
  },
  {
   "cell_type": "markdown",
   "metadata": {
    "papermill": {
     "duration": 0.020717,
     "end_time": "2021-04-08T10:56:18.492210",
     "exception": false,
     "start_time": "2021-04-08T10:56:18.471493",
     "status": "completed"
    },
    "tags": []
   },
   "source": [
    "## <a id = \"7\"> Defining and testing a model</a>\n",
    "In this block, we will divide our training data once again into training and test data. More details about this are discussed here: [Intro to Machine Learning. Model Validation](https://www.kaggle.com/dansbecker/model-validation). Short, models can be overfitted and split data allows this to be determined. In this way, we fit the model on a part of the training data, and on the other part we check their accuracy. In the next section, we will fit the model on the selected model on all training data."
   ]
  },
  {
   "cell_type": "code",
   "execution_count": 11,
   "metadata": {
    "execution": {
     "iopub.execute_input": "2021-04-08T10:56:18.538079Z",
     "iopub.status.busy": "2021-04-08T10:56:18.537346Z",
     "iopub.status.idle": "2021-04-08T10:56:19.821138Z",
     "shell.execute_reply": "2021-04-08T10:56:19.820332Z"
    },
    "papermill": {
     "duration": 1.308,
     "end_time": "2021-04-08T10:56:19.821320",
     "exception": false,
     "start_time": "2021-04-08T10:56:18.513320",
     "status": "completed"
    },
    "tags": []
   },
   "outputs": [
    {
     "data": {
      "text/plain": [
       "{'XGBClassifier': 0.852017937219731,\n",
       " 'RandomForestClassifier': 0.820627802690583,\n",
       " 'DecisionTreeClassifier': 0.7847533632286996}"
      ]
     },
     "execution_count": 11,
     "metadata": {},
     "output_type": "execute_result"
    }
   ],
   "source": [
    "# Split Data\n",
    "s_X_train, s_X_test, s_y_train, s_y_test = train_test_split(X_train, y, train_size=0.75, test_size=0.25, random_state=0)\n",
    "\n",
    "# Now, let's define and test different models! You can change and test any parametres here.\n",
    "#1\n",
    "model_1 = XGBClassifier(n_estimators = 10000, learning_rate = 0.5, use_label_encoder=False, eval_metric = 'logloss')\n",
    "model_1.fit(s_X_train, s_y_train, early_stopping_rounds = 9, eval_set = [(s_X_test, s_y_test)], verbose = False)\n",
    "#2\n",
    "model_2 = RandomForestClassifier(n_estimators = 550, max_depth = 6, random_state = 1)\n",
    "model_2.fit(s_X_train, s_y_train)\n",
    "#3\n",
    "model_3 = DecisionTreeClassifier(max_leaf_nodes = 100, random_state = 1)\n",
    "model_3.fit(s_X_train, s_y_train)\n",
    "\n",
    "val_predictions_1 = model_1.predict(s_X_test) # Model_1 prediction\n",
    "val_predictions_2 = model_2.predict(s_X_test) # Model_2 prediction\n",
    "val_predictions_3 = model_3.predict(s_X_test) # Model_3 prediction\n",
    "\n",
    "#This class is called 'Dictionaries'\n",
    "accuracy_results = {'XGBClassifier': accuracy_score(val_predictions_1, s_y_test), 'RandomForestClassifier': accuracy_score(val_predictions_2, s_y_test),'DecisionTreeClassifier': accuracy_score(val_predictions_3, s_y_test),}\n",
    "accuracy_results"
   ]
  },
  {
   "cell_type": "markdown",
   "metadata": {
    "papermill": {
     "duration": 0.021727,
     "end_time": "2021-04-08T10:56:19.864301",
     "exception": false,
     "start_time": "2021-04-08T10:56:19.842574",
     "status": "completed"
    },
    "tags": []
   },
   "source": [
    "## <a id = \"8\"> Submit to competiton</a>\n",
    "Based on the validation results (validation based on 25% of the training data), we can see that the XGBClassifier model has the best result, however I submit a random forest model.🙃"
   ]
  },
  {
   "cell_type": "code",
   "execution_count": 12,
   "metadata": {
    "execution": {
     "iopub.execute_input": "2021-04-08T10:56:19.917508Z",
     "iopub.status.busy": "2021-04-08T10:56:19.916661Z",
     "iopub.status.idle": "2021-04-08T10:56:21.170350Z",
     "shell.execute_reply": "2021-04-08T10:56:21.169649Z"
    },
    "papermill": {
     "duration": 1.284319,
     "end_time": "2021-04-08T10:56:21.170502",
     "exception": false,
     "start_time": "2021-04-08T10:56:19.886183",
     "status": "completed"
    },
    "tags": []
   },
   "outputs": [],
   "source": [
    "model_2.fit(X_train, y) # Fit model_2 on all train data\n",
    "predictions = model_2.predict(X_test)\n",
    "\n",
    "output = pd.DataFrame({'PassengerId': test_data.PassengerId, 'Survived': predictions})\n",
    "output.to_csv('my_submission.csv', index=False)"
   ]
  },
  {
   "cell_type": "markdown",
   "metadata": {
    "papermill": {
     "duration": 0.020669,
     "end_time": "2021-04-08T10:56:21.212865",
     "exception": false,
     "start_time": "2021-04-08T10:56:21.192196",
     "status": "completed"
    },
    "tags": []
   },
   "source": [
    "# <a id = \"9\"> 4. Conclusion</a>\n",
    "Hope you enjoyed this notebook. You are free to use it for your solution) I would be extremely grateful for any feedback, recommendations, additions and / or suggestions, as well as for your opinion on the presentation.😊\n",
    "\n",
    "[\"Worm-hole\"](#stepend)💫"
   ]
  }
 ],
 "metadata": {
  "kernelspec": {
   "display_name": "Python 3",
   "language": "python",
   "name": "python3"
  },
  "language_info": {
   "codemirror_mode": {
    "name": "ipython",
    "version": 3
   },
   "file_extension": ".py",
   "mimetype": "text/x-python",
   "name": "python",
   "nbconvert_exporter": "python",
   "pygments_lexer": "ipython3",
   "version": "3.7.9"
  },
  "papermill": {
   "default_parameters": {},
   "duration": 12.829451,
   "end_time": "2021-04-08T10:56:21.844535",
   "environment_variables": {},
   "exception": null,
   "input_path": "__notebook__.ipynb",
   "output_path": "__notebook__.ipynb",
   "parameters": {},
   "start_time": "2021-04-08T10:56:09.015084",
   "version": "2.2.2"
  }
 },
 "nbformat": 4,
 "nbformat_minor": 4
}
